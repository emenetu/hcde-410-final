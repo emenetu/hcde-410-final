{
 "cells": [
  {
   "cell_type": "markdown",
   "id": "8eaf5396-9d81-4583-bbaf-271b43454b68",
   "metadata": {},
   "source": [
    "## Research Question: \n",
    "What does the relationship between race and income tell us about how the Central District has undergone gentrification?\n",
    "\n",
    "## Background Info/ Related Work:\n",
    "This paper will go over research conducted on the relationship between race and income and how this has affected gentrification in Seattle’s Central District. As Seattle brings in new companies each year, which also means transplants from different states, I thought it would be interesting to see how this has affected residents within the city. To do this I will distribute a survey to residents of the Central District that asks about key factors that would help determine if they were part of the process of gentrification. I hope that these factors such as race and income are found to be associated with gentrification within the Central District. We have known that the process of gentrification often occurs in these types of communities, so I would not be surprised if the results do point toward a correlation between these factors and gentrification. Although a correlation between these things may be shown, I think a larger scale and more in-depth process that could include things such as interviews would give us a better understanding of the issues. \n",
    "\n",
    "With this project we will be able to better understand how people in the Central District are affected by gentrification, and specifically if it has to do with race and income. While we know gentrification occurs in other larger suburban areas within America, this would give us a better understanding on how it specifically occurs within our own neighborhoods. It would also make us think about the inequities faced by minorities within the city, an ugly truth many people choose to avoid. Overall, I think this research will help us to ensure that as a society and a city we are working to provide equitable opportunities for all residents.\n",
    "\n",
    "\n",
    "## Methodology:\n",
    "\n",
    "For this data I think the best way to represent it would be through a time-series graph. The reason for this is because gentrification is a process that takes years to actually occur, so following it this data over a period of time would give us a better understanding of what is going on with the data and the data is also spread out over a period of time. A time-series allows us to not only see the long-term effects of this gentrification but it also allows us to get an understanding of how this process really works. The general nature of this data is best represented through a time-series and I also think it would be most effective to use a time-series when presented to an audience as it would leave the biggest impact. \n",
    "\n",
    "The methods are the most appropriate due to the fact of the data we are working with. The methodology allows us to gain an understanding of the long-term effects of the data we are analyzing. The analysis of the data must be done in this way to help us best find out the relationship between race, income and gentrification. I specifically chose (whatever analysis type you chose) because I knew it would be most effective for this dataset. The same can be said for the data presentation as a time-series best represents what I am trying to find out. I want to see the relationship between race, income and gentrification and as I said earlier gentrification doesn’t happen overnight, it is something that can take multiple years and upward to a decade to completely finish. This is why I chose a time-series as it allows me to represent this change over time. "
   ]
  },
  {
   "cell_type": "markdown",
   "id": "96d1e02f-9e87-4ddf-815e-de4ccffe059a",
   "metadata": {},
   "source": []
  }
 ],
 "metadata": {
  "kernelspec": {
   "display_name": "Python 3",
   "language": "python",
   "name": "python3"
  },
  "language_info": {
   "codemirror_mode": {
    "name": "ipython",
    "version": 3
   },
   "file_extension": ".py",
   "mimetype": "text/x-python",
   "name": "python",
   "nbconvert_exporter": "python",
   "pygments_lexer": "ipython3",
   "version": "3.8.8"
  }
 },
 "nbformat": 4,
 "nbformat_minor": 5
}
