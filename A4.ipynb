{
 "cells": [
  {
   "cell_type": "markdown",
   "id": "8011a268-9833-4150-9181-a2b1885be396",
   "metadata": {},
   "source": [
    "## A4\n",
    "For this assignment I will be looking at the connection between gentrification and race in Seattle's Central District. The reason I want to do this analysis is both as a Black man in America but as someone with ties to the Central District through friends and family, I want to see the effect it has had on a community I am close to. This is an interesting analysis because it can help us figure out if there is a connection between race and gentrification in Seattle. From a practical use it could be used to show to local government officials that we have a problem with displacing brown and black people from their communities that we need to work on. From a human-centered perspective, it allows us to instead of thinking about the communities as purely property and real estate, realizing there are real effects behind this gentrification occurring. From this analysis I am hoping to learn if Seattle does have a race problem when it comes to gentrification, as I think this is an important issue that more Seattleites should be aware of and should be fighting against. \n",
    "For this dataset I will be using information found on the US Census website. Here is a link to the dataset I will be using (https://data.census.gov/cedsci/table?q=Seattle,%20WA&tid=ACSDP5Y2010.DP05). The reason I am using this dataset is due to the fact that it gives me the most amount of information needed to see if there is gentrification within the Central District and how it correlates to race. Since this data is openly collected by the government and they protect the people through the collection of information, there are no specific licenses or terms of use for the data. This is a suitable dataset due to the fact that it contains almost all the information needed to figure out my research goal. It contains the indicators for gentrification while also giving information on things such as race, class, and education. There shouldn’t be any ethical issue with using this dataset since it is publicly available information collected by the government. \n",
    "One thing that will/has stopped me from completing this project on time is the fact that I got a concussion and am still dealing with the effects of it to this day. This has definitely stopped me from committing to this project as much as I wanted."
   ]
  },
  {
   "cell_type": "code",
   "execution_count": null,
   "id": "f7c56059-c316-476a-a39b-4a4f10938d50",
   "metadata": {},
   "outputs": [],
   "source": []
  }
 ],
 "metadata": {
  "kernelspec": {
   "display_name": "Python 3",
   "language": "python",
   "name": "python3"
  },
  "language_info": {
   "codemirror_mode": {
    "name": "ipython",
    "version": 3
   },
   "file_extension": ".py",
   "mimetype": "text/x-python",
   "name": "python",
   "nbconvert_exporter": "python",
   "pygments_lexer": "ipython3",
   "version": "3.8.8"
  }
 },
 "nbformat": 4,
 "nbformat_minor": 5
}
