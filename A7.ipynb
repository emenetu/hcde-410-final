{
 "cells": [
  {
   "cell_type": "markdown",
   "id": "545e131d-aa63-4fc4-8d9f-1e874ff2e6ed",
   "metadata": {},
   "source": [
    "Where Do I Go?: Race, Income, and Gentrification in Seattle’s Central District\n",
    "Emenetu Haileselassie\n",
    "June 6, 2021\n",
    "\n",
    "This paper will go over research conducted on the relationship between race and income and how this has affected gentrification in Seattle’s Central District. As Seattle brings in new companies each year, which also means transplants from different states, I thought it would be interesting to see how this has affected residents within the city. To do this I will distribute a survey to residents of the Central District that asks about key factors that would help determine if they were part of the process of gentrification. I hope that these factors such as race and income are found to be associated with gentrification within the Central District. We have known that the process of gentrification often occurs in these types of communities, so I would not be surprised if the results do point toward a correlation between these factors and gentrification. Although a correlation between these things may be shown, I think a larger scale and more in depth process that could include things such as interviews would give us a better understanding of the issues. \n",
    "\n",
    "With this project we will be able to better understand how people in the Central District are affected by gentrification, and specifically if it has to do with race and income. While we know gentrification occurs in other larger suburban areas within America, this would give us a better understanding on how it specifically occurs within our own neighborhoods. It would also make us think about the inequities faced by minorities within the city, an ugly truth many people choose to avoid. Overall, I think this research will help us to ensure that as a society and a city we are working to provide equitable opportunities for all residents.\n",
    "\n",
    "I think this research has a lot of policy relevance as it could easily help elected politicians how to equitably make sure residents are not adversely being affected by gentrification. It would also show these politicians that there is a problem with gentrification in the Central District. The group it would help the most are those affected and displaced by gentrification, as they would have research that backs up the problem they have been facing. This research also helps the general public as it makes sures that people are not being erased from their communities and makes us more conscious of the space we take up both figuratively and literally. \n",
    "\n",
    "What does the relationship between race and income tell us about how the Central District has undergone gentrification?\n",
    "\n",
    "The reason for this exploratory research is to take a further look at the effects of gentrification on Seattle’s Central District and how race and income plays a part within it. To achieve this will be giving out both surveys to the residents of Seattle’s Central District. I believe this will provide me with the best opportunity to figure out the correlations between race, income, and gentrification in the Central District. Thus allowing me to build upon the research that has already been done on gentrification in Seattle’s Central District. The reason I felt that this was the best mode of observation was that a good amount of research has already been done on gentrification within Seattle and specifically in the Central District, and we have known that it happened and is currently still happening. I felt that the best way to build upon this research is to look into the correlation between race and income as we have seen that this plays a part in many other cities that have gone through the gentrification process. Finding possible correlations between these things would also allow governing bodies of Seattle to create better policy to combat this issue. \n",
    "\t\n",
    "The population that will be included in this study will be specifically those who reside within Seattle’s Central District. Within this population, I’m looking to get a sample size of at least 75 people as I believe this is the most realistic to accomplish for this study by myself. 75 people will also give me enough data to feel confident in my observations, but I am open to having more participants as this would give me more data that would help me be even more sure about my findings.  \n",
    "\t\n",
    "The units of observation in this will be individuals, as I am looking to see how gentrification has affected residents within Seattle’s Central District. For my units of analysis it will be residents of Seattle’s Central District with the variables being race, income, and age. The reason for this is because we know that in many other cities these units have correlations with gentrification and who is affected by it. This will also allow me to see if there are distinct differences with the process of gentrification across these groups. Which in turn will give us a better understanding on effective ways to combat this process moving forward. \n",
    "\t\n",
    "Taking a further look at the variables we have race, income, level of education, length of time in neighborhood, tenure status, age, and house prices as independent variables. Residential mobility and displacement are the dependent variable and place of residence as the control. Variables with a nominal scale of measurement include race, level of education, tenure status, residential mobility and displacement, and place of residence. Variables that fall under the ratio type are income, length of time in neighborhood, and age, with the only interval variable being house price. In the variable table on page 3 you can find the different opalizations for each variable listed as part of the research. The variables of this research also have high validity and reliability, as since they are simple variables, it’s unlikely that they wouldn’t measure what I’m looking for, and they will produce consistent and stable results as there is little left up to interpretation with the variables. The survey can be found in the appendix, with the ways in which I intend to collect the data. \n",
    "\t\n",
    "I will be conducting quota sampling, as this will be the easiest most efficient way to make sure I am getting the answers and right type of individuals to answer my research question. Then I will be using the non-probability sampling strategy and will be combining both convenience sampling and voluntary response sampling. The reason for this is because due to limited resources and team size, this is the most efficient path to take for this research. Also due to the exploratory nature of my research question, this sample type and strategy will help to build at least a base understanding of the issue, which someone could later expand upon or do further research into. \n",
    "\n",
    "Variable Table\t\n",
    "Variable\tType\tScale of Measurement\tOperalization\n",
    "Race\tIndependent\tNominal\tWhite, Black, Hispanic, Asian, etc.\n",
    "Level of Education\tIndependent\tNominal\tHighschool Diploma/GED, Associate Degree, Bachelor Degree, Master Degree, etc.\n",
    "Income\tIndependent\tRatio\t$0-$infinite\n",
    "Length of Time in Neighborhood\tIndependent\tRatio\t0-100 years\n",
    "Tenure Status\tIndependent\tNominal\tRent or Own?\n",
    "Age\tIndependent\tRatio\t0-100\n",
    "House Prices\tIndependent\tInterval\t$0-$infinite\n",
    "Residential Mobility and Displacement\tDependent\tNominal\tYes or No?\n",
    "Place of Residence\tControl\tNominal\tCentral District\n",
    "\n",
    "Building the survey for this research should take me approximately one week as it is not a complicated survey, but I will have several people look over it to make sure it’s grammatically correct and is well suited to answer my research question. After this I should be able to distribute my survey which I would want to give about 4 weeks to do, in hopes I’m able to get as many participants as possible. A big contingency for this is my ability to get participants, if I get a lot of responses within the first couple weeks, it may end earlier, or I may have to extend it if I do not get enough responses within the 4-week period. The last part of the process would be cleaning the data, which should take me approximately two weeks depending on the number of responses I get, with more responses leading to more time to clean the data."
   ]
  }
 ],
 "metadata": {
  "kernelspec": {
   "display_name": "Python 3",
   "language": "python",
   "name": "python3"
  },
  "language_info": {
   "codemirror_mode": {
    "name": "ipython",
    "version": 3
   },
   "file_extension": ".py",
   "mimetype": "text/x-python",
   "name": "python",
   "nbconvert_exporter": "python",
   "pygments_lexer": "ipython3",
   "version": "3.8.8"
  }
 },
 "nbformat": 4,
 "nbformat_minor": 5
}
